{
 "cells": [
  {
   "cell_type": "code",
   "execution_count": 9,
   "metadata": {
    "collapsed": true
   },
   "outputs": [],
   "source": [
    "import glob\n",
    "import pickle\n",
    "\n",
    "import scipy.io\n",
    "import scipy.signal\n",
    "import librosa\n",
    "import numpy as np"
   ]
  },
  {
   "cell_type": "code",
   "execution_count": 10,
   "metadata": {
    "collapsed": false
   },
   "outputs": [],
   "source": [
    "files = glob.glob('/home/dante_gates/music/Music/**/.wav', recursive=True) \\\n",
    "      + glob.glob('/home/dante_gates/music/Music/**/*mp3', recursive=True)"
   ]
  },
  {
   "cell_type": "code",
   "execution_count": 11,
   "metadata": {
    "collapsed": false,
    "scrolled": true
   },
   "outputs": [
    {
     "name": "stdout",
     "output_type": "stream",
     "text": [
      "11758\n"
     ]
    },
    {
     "data": {
      "text/plain": [
       "['/home/dante_gates/music/Music/Aesop Rock - All Day Nike + Original Run (Continuous Mix).mp3',\n",
       " '/home/dante_gates/music/Music/R.C. Sproul/Foundations - An Overview of Systematic Theology/FOU01MI42.mp3',\n",
       " '/home/dante_gates/music/Music/R.C. Sproul/Foundations - An Overview of Systematic Theology/FOU01MI35.mp3',\n",
       " '/home/dante_gates/music/Music/R.C. Sproul/Foundations - An Overview of Systematic Theology/FOU01MI25.mp3',\n",
       " '/home/dante_gates/music/Music/R.C. Sproul/Foundations - An Overview of Systematic Theology/FOU01MI17.mp3',\n",
       " '/home/dante_gates/music/Music/R.C. Sproul/Foundations - An Overview of Systematic Theology/FOU01MI55.mp3',\n",
       " '/home/dante_gates/music/Music/R.C. Sproul/Foundations - An Overview of Systematic Theology/FOU01MI41.mp3',\n",
       " '/home/dante_gates/music/Music/R.C. Sproul/Foundations - An Overview of Systematic Theology/FOU01MI53.mp3',\n",
       " '/home/dante_gates/music/Music/R.C. Sproul/Foundations - An Overview of Systematic Theology/FOU01MI24.mp3',\n",
       " '/home/dante_gates/music/Music/R.C. Sproul/Foundations - An Overview of Systematic Theology/FOU01MI21.mp3',\n",
       " '/home/dante_gates/music/Music/R.C. Sproul/Foundations - An Overview of Systematic Theology/FOU01MI15.mp3',\n",
       " '/home/dante_gates/music/Music/R.C. Sproul/Foundations - An Overview of Systematic Theology/FOU01MI46.mp3',\n",
       " '/home/dante_gates/music/Music/R.C. Sproul/Foundations - An Overview of Systematic Theology/FOU01MI31.mp3',\n",
       " '/home/dante_gates/music/Music/R.C. Sproul/Foundations - An Overview of Systematic Theology/FOU01MI32.mp3',\n",
       " '/home/dante_gates/music/Music/R.C. Sproul/Foundations - An Overview of Systematic Theology/FOU01MI36.mp3',\n",
       " '/home/dante_gates/music/Music/R.C. Sproul/Foundations - An Overview of Systematic Theology/FOU01MI14.mp3',\n",
       " '/home/dante_gates/music/Music/R.C. Sproul/Foundations - An Overview of Systematic Theology/FOU01MI60.mp3',\n",
       " '/home/dante_gates/music/Music/R.C. Sproul/Foundations - An Overview of Systematic Theology/FOU01MI12.mp3',\n",
       " '/home/dante_gates/music/Music/R.C. Sproul/Foundations - An Overview of Systematic Theology/FOU01MI07.mp3',\n",
       " '/home/dante_gates/music/Music/R.C. Sproul/Foundations - An Overview of Systematic Theology/FOU01MI22.mp3',\n",
       " '/home/dante_gates/music/Music/R.C. Sproul/Foundations - An Overview of Systematic Theology/FOU01MI34.mp3',\n",
       " '/home/dante_gates/music/Music/R.C. Sproul/Foundations - An Overview of Systematic Theology/FOU01MI01.mp3',\n",
       " '/home/dante_gates/music/Music/R.C. Sproul/Foundations - An Overview of Systematic Theology/FOU01MI03.mp3',\n",
       " '/home/dante_gates/music/Music/R.C. Sproul/Foundations - An Overview of Systematic Theology/FOU01MI57.mp3',\n",
       " '/home/dante_gates/music/Music/R.C. Sproul/Foundations - An Overview of Systematic Theology/FOU01MI51.mp3',\n",
       " '/home/dante_gates/music/Music/R.C. Sproul/Foundations - An Overview of Systematic Theology/FOU01MI28.mp3',\n",
       " '/home/dante_gates/music/Music/R.C. Sproul/Foundations - An Overview of Systematic Theology/FOU01MI47.mp3',\n",
       " '/home/dante_gates/music/Music/R.C. Sproul/Foundations - An Overview of Systematic Theology/FOU01MI10.mp3',\n",
       " '/home/dante_gates/music/Music/R.C. Sproul/Foundations - An Overview of Systematic Theology/FOU01MI52.mp3',\n",
       " '/home/dante_gates/music/Music/R.C. Sproul/Foundations - An Overview of Systematic Theology/FOU01MI44.mp3',\n",
       " '/home/dante_gates/music/Music/R.C. Sproul/Foundations - An Overview of Systematic Theology/FOU01MI59.mp3',\n",
       " '/home/dante_gates/music/Music/R.C. Sproul/Foundations - An Overview of Systematic Theology/FOU01MI04.mp3',\n",
       " '/home/dante_gates/music/Music/R.C. Sproul/Foundations - An Overview of Systematic Theology/FOU01MI18.mp3',\n",
       " '/home/dante_gates/music/Music/R.C. Sproul/Foundations - An Overview of Systematic Theology/FOU01MI02.mp3',\n",
       " '/home/dante_gates/music/Music/R.C. Sproul/Foundations - An Overview of Systematic Theology/FOU01MI05.mp3',\n",
       " '/home/dante_gates/music/Music/R.C. Sproul/Foundations - An Overview of Systematic Theology/FOU01MI48.mp3',\n",
       " '/home/dante_gates/music/Music/R.C. Sproul/Foundations - An Overview of Systematic Theology/FOU01MI38.mp3',\n",
       " '/home/dante_gates/music/Music/R.C. Sproul/Foundations - An Overview of Systematic Theology/FOU01MI09.mp3',\n",
       " '/home/dante_gates/music/Music/R.C. Sproul/Foundations - An Overview of Systematic Theology/FOU01MI56.mp3',\n",
       " '/home/dante_gates/music/Music/R.C. Sproul/Foundations - An Overview of Systematic Theology/FOU01MI49.mp3',\n",
       " '/home/dante_gates/music/Music/R.C. Sproul/Foundations - An Overview of Systematic Theology/FOU01MI33.mp3',\n",
       " '/home/dante_gates/music/Music/R.C. Sproul/Foundations - An Overview of Systematic Theology/FOU01MI27.mp3',\n",
       " '/home/dante_gates/music/Music/R.C. Sproul/Foundations - An Overview of Systematic Theology/FOU01MI20.mp3',\n",
       " '/home/dante_gates/music/Music/R.C. Sproul/Foundations - An Overview of Systematic Theology/FOU01MI23.mp3',\n",
       " '/home/dante_gates/music/Music/R.C. Sproul/Foundations - An Overview of Systematic Theology/FOU01MI30.mp3',\n",
       " '/home/dante_gates/music/Music/R.C. Sproul/Foundations - An Overview of Systematic Theology/FOU01MI54.mp3',\n",
       " '/home/dante_gates/music/Music/R.C. Sproul/Foundations - An Overview of Systematic Theology/FOU01MI29.mp3',\n",
       " '/home/dante_gates/music/Music/R.C. Sproul/Foundations - An Overview of Systematic Theology/FOU01MI39.mp3',\n",
       " '/home/dante_gates/music/Music/R.C. Sproul/Foundations - An Overview of Systematic Theology/FOU01MI11.mp3',\n",
       " '/home/dante_gates/music/Music/R.C. Sproul/Foundations - An Overview of Systematic Theology/FOU01MI50.mp3',\n",
       " '/home/dante_gates/music/Music/R.C. Sproul/Foundations - An Overview of Systematic Theology/FOU01MI37.mp3',\n",
       " '/home/dante_gates/music/Music/R.C. Sproul/Foundations - An Overview of Systematic Theology/FOU01MI13.mp3',\n",
       " '/home/dante_gates/music/Music/R.C. Sproul/Foundations - An Overview of Systematic Theology/FOU01MI26.mp3',\n",
       " '/home/dante_gates/music/Music/R.C. Sproul/Foundations - An Overview of Systematic Theology/FOU01MI08.mp3',\n",
       " '/home/dante_gates/music/Music/R.C. Sproul/Foundations - An Overview of Systematic Theology/FOU01MI40.mp3',\n",
       " '/home/dante_gates/music/Music/R.C. Sproul/Foundations - An Overview of Systematic Theology/FOU01MI06.mp3',\n",
       " '/home/dante_gates/music/Music/R.C. Sproul/Foundations - An Overview of Systematic Theology/FOU01MI58.mp3',\n",
       " '/home/dante_gates/music/Music/R.C. Sproul/Foundations - An Overview of Systematic Theology/FOU01MI43.mp3',\n",
       " '/home/dante_gates/music/Music/R.C. Sproul/Foundations - An Overview of Systematic Theology/FOU01MI45.mp3',\n",
       " '/home/dante_gates/music/Music/R.C. Sproul/Foundations - An Overview of Systematic Theology/FOU01MI16.mp3',\n",
       " '/home/dante_gates/music/Music/R.C. Sproul/Foundations - An Overview of Systematic Theology/FOU01MI19.mp3',\n",
       " '/home/dante_gates/music/Music/Steve Finn/Week 3.mp3',\n",
       " '/home/dante_gates/music/Music/Moby/13 If Things Were Perfect.mp3',\n",
       " '/home/dante_gates/music/Music/Moby/07 Body Rock.mp3',\n",
       " '/home/dante_gates/music/Music/Moby/03 Porcelain.mp3',\n",
       " '/home/dante_gates/music/Music/Moby/12 Down Slow.mp3',\n",
       " '/home/dante_gates/music/Music/Moby/14 Everloving.mp3',\n",
       " '/home/dante_gates/music/Music/Moby/08 Natural Blues.mp3',\n",
       " '/home/dante_gates/music/Music/Moby/17 The Sky Is Broken.mp3',\n",
       " '/home/dante_gates/music/Music/Moby/09 Machete.mp3',\n",
       " '/home/dante_gates/music/Music/Moby/02 Find My Baby.mp3',\n",
       " '/home/dante_gates/music/Music/Moby/01 Honey.mp3',\n",
       " '/home/dante_gates/music/Music/Moby/06 Rushing.mp3',\n",
       " '/home/dante_gates/music/Music/Moby/10 7.mp3',\n",
       " '/home/dante_gates/music/Music/Moby/15 Inside.mp3',\n",
       " '/home/dante_gates/music/Music/Moby/04 Why Does My Heart Feel So Bad.mp3',\n",
       " '/home/dante_gates/music/Music/Moby/18 My Weakness.mp3',\n",
       " '/home/dante_gates/music/Music/Moby/11 Run On.mp3',\n",
       " '/home/dante_gates/music/Music/Moby/05 South Side.mp3',\n",
       " '/home/dante_gates/music/Music/Moby/16 Guitar Flute & String.mp3',\n",
       " \"/home/dante_gates/music/Music/Miles Davis All-Stars/Walkin'/01 Walkin'.mp3\",\n",
       " \"/home/dante_gates/music/Music/Miles Davis All-Stars/Walkin'/02 Blue 'N' Boogie.mp3\",\n",
       " \"/home/dante_gates/music/Music/Miles Davis All-Stars/Walkin'/04 You Don't Know What Love Is.mp3\",\n",
       " \"/home/dante_gates/music/Music/Miles Davis All-Stars/Walkin'/03 Solar.mp3\",\n",
       " \"/home/dante_gates/music/Music/Miles Davis All-Stars/Walkin'/05 Love Me or Leave Me [#].mp3\",\n",
       " '/home/dante_gates/music/Music/Louis Armstrong/Hot Fives & Hot Sevens, Vol. 2 [Columbia]/15 Twelfth Street Rag.mp3',\n",
       " '/home/dante_gates/music/Music/Louis Armstrong/Hot Fives & Hot Sevens, Vol. 2 [Columbia]/12 Potato Head Blues.mp3',\n",
       " '/home/dante_gates/music/Music/Louis Armstrong/Hot Fives & Hot Sevens, Vol. 2 [Columbia]/03 Jazz Lips.mp3',\n",
       " '/home/dante_gates/music/Music/Louis Armstrong/Hot Fives & Hot Sevens, Vol. 2 [Columbia]/08 Irish Black Bottom.mp3',\n",
       " '/home/dante_gates/music/Music/Louis Armstrong/Hot Fives & Hot Sevens, Vol. 2 [Columbia]/06 Sunset Cafe Stomp.mp3',\n",
       " '/home/dante_gates/music/Music/Louis Armstrong/Hot Fives & Hot Sevens, Vol. 2 [Columbia]/05 Big Butter and Egg Man.mp3',\n",
       " '/home/dante_gates/music/Music/Louis Armstrong/Hot Fives & Hot Sevens, Vol. 2 [Columbia]/07 You Made Me Love You.mp3',\n",
       " '/home/dante_gates/music/Music/Louis Armstrong/Hot Fives & Hot Sevens, Vol. 2 [Columbia]/01 Lonesome Blues.mp3',\n",
       " '/home/dante_gates/music/Music/Louis Armstrong/Hot Fives & Hot Sevens, Vol. 2 [Columbia]/10 Wild Man Blues.mp3',\n",
       " '/home/dante_gates/music/Music/Louis Armstrong/Hot Fives & Hot Sevens, Vol. 2 [Columbia]/16 Keyhole Blues.mp3',\n",
       " '/home/dante_gates/music/Music/Louis Armstrong/Hot Fives & Hot Sevens, Vol. 2 [Columbia]/13 Melancholy.mp3',\n",
       " '/home/dante_gates/music/Music/Louis Armstrong/Hot Fives & Hot Sevens, Vol. 2 [Columbia]/14 Weary Blues.mp3',\n",
       " '/home/dante_gates/music/Music/Louis Armstrong/Hot Fives & Hot Sevens, Vol. 2 [Columbia]/02 Sweet Little Papa.mp3',\n",
       " '/home/dante_gates/music/Music/Louis Armstrong/Hot Fives & Hot Sevens, Vol. 2 [Columbia]/09 Willie the Weeper.mp3',\n",
       " '/home/dante_gates/music/Music/Louis Armstrong/Hot Fives & Hot Sevens, Vol. 2 [Columbia]/04 Skid-Dat-De-Dat.mp3']"
      ]
     },
     "execution_count": 11,
     "metadata": {},
     "output_type": "execute_result"
    }
   ],
   "source": [
    "print(len(files))\n",
    "files[:100]"
   ]
  },
  {
   "cell_type": "code",
   "execution_count": 7,
   "metadata": {
    "collapsed": true
   },
   "outputs": [],
   "source": [
    "WINDOW_LENGTH = 3  # in seconds\n",
    "DESIRED_SAMPLE_RATE = 44100\n",
    "HOP_LENGTH = 2048\n",
    "N_CLIPS = 20\n",
    "OUTPUT_DIR = '/home/dante_gates/repos/music-rec/data/train'\n",
    "MAXSIZE = 10  # in megabytes"
   ]
  },
  {
   "cell_type": "code",
   "execution_count": 19,
   "metadata": {
    "collapsed": false
   },
   "outputs": [],
   "source": [
    "import io\n",
    "import random\n",
    "import os\n",
    "import pydub\n",
    "\n",
    "\n",
    "def mp3_hook(f):\n",
    "    audio_segment = pydub.AudioSegment.from_mp3(f)\n",
    "    byte_stream = io.BytesIO()\n",
    "    audio_segment.export(byte_stream, 'wav')\n",
    "    byte_stream.seek(0)\n",
    "    return byte_stream\n",
    "\n",
    "def read_wav(f):\n",
    "    \"\"\"Read wav file and return the sample rate and audio.\"\"\"\n",
    "    sr, audio = scipy.io.wavfile.read(f)\n",
    "    return _process_audio(sr, audio)\n",
    "\n",
    "def _process_audio(sr, audio):\n",
    "    if sr < DESIRED_SAMPLE_RATE:\n",
    "        raise ValueError('audio has a sample rate less than %s'\n",
    "                         % DESIRED_SAMPLE_RATE)\n",
    "    return sr, audio\n",
    "\n",
    "# TODO: not doing anything with right channel now.\n",
    "def make_features(sr, audio):\n",
    "    n_samples = audio.shape[0]\n",
    "    try:\n",
    "        L, R = audio[:, 0], audio[:, 1]\n",
    "    except IndexError:\n",
    "        raise ValueError('not a stereo file')\n",
    "    window = sr * WINDOW_LENGTH\n",
    "    samples = random.sample(list(range(n_samples - window)), k=N_CLIPS)\n",
    "    melspecs = []\n",
    "    for clip_begin in samples:\n",
    "        clip = L[clip_begin:clip_begin+window]\n",
    "        melspec = librosa.feature.melspectrogram(clip, sr, hop_length=HOP_LENGTH)\n",
    "        melspecs.append(np.reshape(melspec, -1))\n",
    "    return melspecs\n",
    "\n",
    "_megabyte = 2**20\n",
    "def getsize(f):\n",
    "    \"\"\"Return size of `f` in megabytes.\"\"\"\n",
    "    return os.path.getsize(f) / _megabyte\n",
    "\n",
    "_expected_shape = (8320,)  # for sanity check\n",
    "def create_training_data(files):\n",
    "    for file in files:\n",
    "        print('\\r', 'processing', file, end='')\n",
    "        if getsize(file) > MAXSIZE:\n",
    "            print('\\rskipping %s, file is too big' % file, end='')\n",
    "            continue\n",
    "        f = mp3_hook(file) if file.endswith('.mp3') else file\n",
    "        try:\n",
    "            sr, audio = read_wav(f)\n",
    "            features = make_features(sr, audio)\n",
    "        except ValueError as e:\n",
    "            print(file, e)\n",
    "        else:\n",
    "            basename = os.path.basename(file)\n",
    "            for i, feature in enumerate(features, start=1):\n",
    "                if feature.shape == _expected_shape:\n",
    "                    saveto = '%s - sample %s.npy' % (basename, i)\n",
    "                    saveto = os.path.join(OUTPUT_DIR, saveto)\n",
    "                    np.save(saveto, feature)\n",
    "                else:\n",
    "                    print('%s did not have expected shape' % file)"
   ]
  },
  {
   "cell_type": "code",
   "execution_count": 18,
   "metadata": {
    "collapsed": false
   },
   "outputs": [
    {
     "name": "stdout",
     "output_type": "stream",
     "text": [
      " processing /home/dante_gates/music/Music/Save S. & Saives/KoreyAndI/Missed Opportunity.mp3/home/dante_gates/music/Music/Save S. & Saives/KoreyAndI/Missed Opportunity.mp3 did not have expected shape\n",
      "/home/dante_gates/music/Music/Save S. & Saives/KoreyAndI/Missed Opportunity.mp3 did not have expected shape\n",
      "/home/dante_gates/music/Music/Save S. & Saives/KoreyAndI/Missed Opportunity.mp3 did not have expected shape\n",
      "/home/dante_gates/music/Music/Save S. & Saives/KoreyAndI/Missed Opportunity.mp3 did not have expected shape\n",
      "/home/dante_gates/music/Music/Save S. & Saives/KoreyAndI/Missed Opportunity.mp3 did not have expected shape\n",
      "/home/dante_gates/music/Music/Save S. & Saives/KoreyAndI/Missed Opportunity.mp3 did not have expected shape\n",
      "/home/dante_gates/music/Music/Save S. & Saives/KoreyAndI/Missed Opportunity.mp3 did not have expected shape\n",
      "/home/dante_gates/music/Music/Save S. & Saives/KoreyAndI/Missed Opportunity.mp3 did not have expected shape\n",
      "/home/dante_gates/music/Music/Save S. & Saives/KoreyAndI/Missed Opportunity.mp3 did not have expected shape\n",
      "/home/dante_gates/music/Music/Save S. & Saives/KoreyAndI/Missed Opportunity.mp3 did not have expected shape\n",
      "/home/dante_gates/music/Music/Save S. & Saives/KoreyAndI/Missed Opportunity.mp3 did not have expected shape\n",
      "/home/dante_gates/music/Music/Save S. & Saives/KoreyAndI/Missed Opportunity.mp3 did not have expected shape\n",
      "/home/dante_gates/music/Music/Save S. & Saives/KoreyAndI/Missed Opportunity.mp3 did not have expected shape\n",
      "/home/dante_gates/music/Music/Save S. & Saives/KoreyAndI/Missed Opportunity.mp3 did not have expected shape\n",
      "/home/dante_gates/music/Music/Save S. & Saives/KoreyAndI/Missed Opportunity.mp3 did not have expected shape\n",
      "/home/dante_gates/music/Music/Save S. & Saives/KoreyAndI/Missed Opportunity.mp3 did not have expected shape\n",
      "/home/dante_gates/music/Music/Save S. & Saives/KoreyAndI/Missed Opportunity.mp3 did not have expected shape\n",
      "/home/dante_gates/music/Music/Save S. & Saives/KoreyAndI/Missed Opportunity.mp3 did not have expected shape\n",
      "/home/dante_gates/music/Music/Save S. & Saives/KoreyAndI/Missed Opportunity.mp3 did not have expected shape\n",
      "/home/dante_gates/music/Music/Save S. & Saives/KoreyAndI/Missed Opportunity.mp3 did not have expected shape\n",
      " processing /home/dante_gates/music/Music/Save S. & Saives/AWoodenBoneAndWedge/They'llMakeUsSing.mp3"
     ]
    },
    {
     "ename": "ValueError",
     "evalue": "not a stereo file",
     "output_type": "error",
     "traceback": [
      "\u001b[0;31m---------------------------------------------------------------------------\u001b[0m",
      "\u001b[0;31mIndexError\u001b[0m                                Traceback (most recent call last)",
      "\u001b[0;32m<ipython-input-17-e7312e8b3c0a>\u001b[0m in \u001b[0;36mmake_features\u001b[0;34m(sr, audio)\u001b[0m\n\u001b[1;32m     28\u001b[0m     \u001b[0;32mtry\u001b[0m\u001b[0;34m:\u001b[0m\u001b[0;34m\u001b[0m\u001b[0m\n\u001b[0;32m---> 29\u001b[0;31m         \u001b[0mL\u001b[0m\u001b[0;34m,\u001b[0m \u001b[0mR\u001b[0m \u001b[0;34m=\u001b[0m \u001b[0maudio\u001b[0m\u001b[0;34m[\u001b[0m\u001b[0;34m:\u001b[0m\u001b[0;34m,\u001b[0m \u001b[0;36m0\u001b[0m\u001b[0;34m]\u001b[0m\u001b[0;34m,\u001b[0m \u001b[0maudio\u001b[0m\u001b[0;34m[\u001b[0m\u001b[0;34m:\u001b[0m\u001b[0;34m,\u001b[0m \u001b[0;36m1\u001b[0m\u001b[0;34m]\u001b[0m\u001b[0;34m\u001b[0m\u001b[0m\n\u001b[0m\u001b[1;32m     30\u001b[0m     \u001b[0;32mexcept\u001b[0m \u001b[0mIndexError\u001b[0m\u001b[0;34m:\u001b[0m\u001b[0;34m\u001b[0m\u001b[0m\n",
      "\u001b[0;31mIndexError\u001b[0m: too many indices for array",
      "\nDuring handling of the above exception, another exception occurred:\n",
      "\u001b[0;31mValueError\u001b[0m                                Traceback (most recent call last)",
      "\u001b[0;32m<ipython-input-18-03a5f2a831af>\u001b[0m in \u001b[0;36m<module>\u001b[0;34m()\u001b[0m\n\u001b[0;32m----> 1\u001b[0;31m \u001b[0mcreate_training_data\u001b[0m\u001b[0;34m(\u001b[0m\u001b[0mfiles\u001b[0m\u001b[0;34m)\u001b[0m\u001b[0;34m\u001b[0m\u001b[0m\n\u001b[0m",
      "\u001b[0;32m<ipython-input-17-e7312e8b3c0a>\u001b[0m in \u001b[0;36mcreate_training_data\u001b[0;34m(files)\u001b[0m\n\u001b[1;32m     57\u001b[0m             \u001b[0mprint\u001b[0m\u001b[0;34m(\u001b[0m\u001b[0mfile\u001b[0m\u001b[0;34m,\u001b[0m \u001b[0me\u001b[0m\u001b[0;34m)\u001b[0m\u001b[0;34m\u001b[0m\u001b[0m\n\u001b[1;32m     58\u001b[0m         \u001b[0;32melse\u001b[0m\u001b[0;34m:\u001b[0m\u001b[0;34m\u001b[0m\u001b[0m\n\u001b[0;32m---> 59\u001b[0;31m             \u001b[0mfeatures\u001b[0m \u001b[0;34m=\u001b[0m \u001b[0mmake_features\u001b[0m\u001b[0;34m(\u001b[0m\u001b[0msr\u001b[0m\u001b[0;34m,\u001b[0m \u001b[0maudio\u001b[0m\u001b[0;34m)\u001b[0m\u001b[0;34m\u001b[0m\u001b[0m\n\u001b[0m\u001b[1;32m     60\u001b[0m             \u001b[0mbasename\u001b[0m \u001b[0;34m=\u001b[0m \u001b[0mos\u001b[0m\u001b[0;34m.\u001b[0m\u001b[0mpath\u001b[0m\u001b[0;34m.\u001b[0m\u001b[0mbasename\u001b[0m\u001b[0;34m(\u001b[0m\u001b[0mfile\u001b[0m\u001b[0;34m)\u001b[0m\u001b[0;34m\u001b[0m\u001b[0m\n\u001b[1;32m     61\u001b[0m             \u001b[0;32mfor\u001b[0m \u001b[0mi\u001b[0m\u001b[0;34m,\u001b[0m \u001b[0mfeature\u001b[0m \u001b[0;32min\u001b[0m \u001b[0menumerate\u001b[0m\u001b[0;34m(\u001b[0m\u001b[0mfeatures\u001b[0m\u001b[0;34m,\u001b[0m \u001b[0mstart\u001b[0m\u001b[0;34m=\u001b[0m\u001b[0;36m1\u001b[0m\u001b[0;34m)\u001b[0m\u001b[0;34m:\u001b[0m\u001b[0;34m\u001b[0m\u001b[0m\n",
      "\u001b[0;32m<ipython-input-17-e7312e8b3c0a>\u001b[0m in \u001b[0;36mmake_features\u001b[0;34m(sr, audio)\u001b[0m\n\u001b[1;32m     29\u001b[0m         \u001b[0mL\u001b[0m\u001b[0;34m,\u001b[0m \u001b[0mR\u001b[0m \u001b[0;34m=\u001b[0m \u001b[0maudio\u001b[0m\u001b[0;34m[\u001b[0m\u001b[0;34m:\u001b[0m\u001b[0;34m,\u001b[0m \u001b[0;36m0\u001b[0m\u001b[0;34m]\u001b[0m\u001b[0;34m,\u001b[0m \u001b[0maudio\u001b[0m\u001b[0;34m[\u001b[0m\u001b[0;34m:\u001b[0m\u001b[0;34m,\u001b[0m \u001b[0;36m1\u001b[0m\u001b[0;34m]\u001b[0m\u001b[0;34m\u001b[0m\u001b[0m\n\u001b[1;32m     30\u001b[0m     \u001b[0;32mexcept\u001b[0m \u001b[0mIndexError\u001b[0m\u001b[0;34m:\u001b[0m\u001b[0;34m\u001b[0m\u001b[0m\n\u001b[0;32m---> 31\u001b[0;31m         \u001b[0;32mraise\u001b[0m \u001b[0mValueError\u001b[0m\u001b[0;34m(\u001b[0m\u001b[0;34m'not a stereo file'\u001b[0m\u001b[0;34m)\u001b[0m\u001b[0;34m\u001b[0m\u001b[0m\n\u001b[0m\u001b[1;32m     32\u001b[0m     \u001b[0mwindow\u001b[0m \u001b[0;34m=\u001b[0m \u001b[0msr\u001b[0m \u001b[0;34m*\u001b[0m \u001b[0mWINDOW_LENGTH\u001b[0m\u001b[0;34m\u001b[0m\u001b[0m\n\u001b[1;32m     33\u001b[0m     \u001b[0msamples\u001b[0m \u001b[0;34m=\u001b[0m \u001b[0mrandom\u001b[0m\u001b[0;34m.\u001b[0m\u001b[0msample\u001b[0m\u001b[0;34m(\u001b[0m\u001b[0mlist\u001b[0m\u001b[0;34m(\u001b[0m\u001b[0mrange\u001b[0m\u001b[0;34m(\u001b[0m\u001b[0mn_samples\u001b[0m \u001b[0;34m-\u001b[0m \u001b[0mwindow\u001b[0m\u001b[0;34m)\u001b[0m\u001b[0;34m)\u001b[0m\u001b[0;34m,\u001b[0m \u001b[0mk\u001b[0m\u001b[0;34m=\u001b[0m\u001b[0mN_CLIPS\u001b[0m\u001b[0;34m)\u001b[0m\u001b[0;34m\u001b[0m\u001b[0m\n",
      "\u001b[0;31mValueError\u001b[0m: not a stereo file"
     ]
    }
   ],
   "source": [
    "create_training_data(files)"
   ]
  }
 ],
 "metadata": {
  "anaconda-cloud": {},
  "kernelspec": {
   "display_name": "Python [conda root]",
   "language": "python",
   "name": "conda-root-py"
  },
  "language_info": {
   "codemirror_mode": {
    "name": "ipython",
    "version": 3
   },
   "file_extension": ".py",
   "mimetype": "text/x-python",
   "name": "python",
   "nbconvert_exporter": "python",
   "pygments_lexer": "ipython3",
   "version": "3.5.2"
  }
 },
 "nbformat": 4,
 "nbformat_minor": 1
}
