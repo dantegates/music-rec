{
 "cells": [
  {
   "cell_type": "code",
   "execution_count": 1,
   "metadata": {
    "collapsed": false
   },
   "outputs": [],
   "source": [
    "import scipy.io\n",
    "import librosa\n",
    "import numpy as np"
   ]
  },
  {
   "cell_type": "code",
   "execution_count": 4,
   "metadata": {
    "collapsed": false
   },
   "outputs": [
    {
     "data": {
      "text/plain": [
       "(44100, (11703168,), (11703168,))"
      ]
     },
     "execution_count": 4,
     "metadata": {},
     "output_type": "execute_result"
    }
   ],
   "source": [
    "sr, audio = scipy.io.wavfile.read('/home/dante_gates/repos/music-rec/data/raw/01 - Wal.wav')\n",
    "l_channel, r_channel = audio[:, 0], audio[:, 1]\n",
    "sr, l_channel.shape, r_channel.shape"
   ]
  },
  {
   "cell_type": "code",
   "execution_count": 17,
   "metadata": {
    "collapsed": false
   },
   "outputs": [],
   "source": [
    "S_l = librosa.feature.melspectrogram(l_channel, sr, hop_length=1024)"
   ]
  },
  {
   "cell_type": "code",
   "execution_count": 15,
   "metadata": {
    "collapsed": false
   },
   "outputs": [
    {
     "data": {
      "text/plain": [
       "(128, 22858)"
      ]
     },
     "execution_count": 15,
     "metadata": {},
     "output_type": "execute_result"
    }
   ],
   "source": [
    "S_l.shape"
   ]
  },
  {
   "cell_type": "code",
   "execution_count": 18,
   "metadata": {
    "collapsed": false
   },
   "outputs": [
    {
     "data": {
      "text/plain": [
       "(128, 11429)"
      ]
     },
     "execution_count": 18,
     "metadata": {},
     "output_type": "execute_result"
    }
   ],
   "source": [
    "S_l.shape"
   ]
  },
  {
   "cell_type": "code",
   "execution_count": 6,
   "metadata": {
    "collapsed": false
   },
   "outputs": [],
   "source": [
    "window_length = 3\n",
    "\n",
    "def song_length(sr, n_samples):\n",
    "    return (n_samples / sr)\n",
    "\n",
    "def load_wav(filename):\n",
    "    sr, audio = scipy.io.wavfile.read(filename)\n",
    "    if sr != 44100:\n",
    "        # consider using:\n",
    "        # https://docs.scipy.org/doc/scipy-0.16.0/reference/generated/scipy.signal.resample.html\n",
    "        raise ValueError('%s does not have a sample rate of 44100' % filename)\n",
    "    if not song_length(sr, audio.shape[0]) > 30:\n",
    "        print(sr, audio.shape)\n",
    "        raise ValueError('%s is less than 30s' % filename)\n",
    "    try:\n",
    "        l_channel, r_channel = audio[:, 0], audio[:, 1]\n",
    "    except IndexError:\n",
    "        raise ValueError('%s is not a stereo file' % filename)\n",
    "    return sr, l_channel, r_channel\n",
    "\n",
    "_n_samples = 44100 * window_length\n",
    "def extract_window(samples):\n",
    "    mid = int(len(samples))\n",
    "    return samples[mid-_n_samples:mid+_n_samples]\n",
    "\n",
    "def make_features(sr, l_channel, r_channel):\n",
    "    subsample = extract_window(l_channel)\n",
    "    melspec = librosa.feature.melspectrogram(subsample, sr)\n",
    "    return np.reshape(melspec, -1)"
   ]
  },
  {
   "cell_type": "code",
   "execution_count": 7,
   "metadata": {
    "collapsed": false,
    "scrolled": true
   },
   "outputs": [
    {
     "name": "stdout",
     "output_type": "stream",
     "text": [
      "/home/dante_gates/music_rec/10 Cheye.wav 44100 (17718912,) (17718912,) (128, 34608) (33152,)\n",
      "/home/dante_gates/music_rec/04 Resol.wav 44100 (7699968,) (7699968,) (128, 15040) (33152,)\n",
      "/home/dante_gates/music_rec/06 Jammi.wav 44100 (9310464,) (9310464,) (128, 18185) (33152,)\n",
      "/home/dante_gates/music_rec/03 Death.wav 44100 (10864512,) (10864512,) (128, 21220) (33152,)\n",
      "/home/dante_gates/music_rec/08 Magnu.wav 44100 (22741632,) (22741632,) (128, 44418) (33152,)\n",
      "/home/dante_gates/music_rec/06 Stars.wav 44100 (24930432,) (24930432,) (128, 48693) (33152,)\n",
      "/home/dante_gates/music_rec/12 Snake.wav 22050 (6761088,) (6761088,) (128, 13206) (33152,)\n",
      "/home/dante_gates/music_rec/21 Let's.wav 44100 (7814016,) (7814016,) (128, 15262) (33152,)\n",
      "/home/dante_gates/music_rec/10 My De.wav 44100 (9395712,) (9395712,) (128, 18352) (33152,)\n",
      "/home/dante_gates/music_rec/15 Rocki.wav 44100 (9933696,) (9933696,) (128, 19402) (33152,)\n",
      "/home/dante_gates/music_rec/06 I Use.wav 44100 (9591552,) (9591552,) (128, 18734) (33152,)\n"
     ]
    }
   ],
   "source": [
    "import glob\n",
    "\n",
    "break_after = 10\n",
    "for i, f in enumerate(glob.glob('/home/dante_gates/music_rec/*.wav')):\n",
    "    sr, audio = scipy.io.wavfile.read(f)\n",
    "    l_channel, r_channel = audio[:, 0], audio[:, 1]\n",
    "    S_l = librosa.feature.melspectrogram(l_channel, sr)\n",
    "    print(f, sr, l_channel.shape, r_channel.shape, S_l.shape, make_features(sr, l_channel, r_channel).shape)\n",
    "    if i == break_after:\n",
    "        break"
   ]
  },
  {
   "cell_type": "code",
   "execution_count": 32,
   "metadata": {
    "collapsed": true
   },
   "outputs": [],
   "source": [
    "def gen(filenames, n_features, batch_size=30):\n",
    "    pos = 0\n",
    "    for f in filenames:\n",
    "        if pos == 0:\n",
    "            arr = np.zeros((batch_size, n_features))\n",
    "        try:\n",
    "            contents = load_wav(f)\n",
    "        except ValueError as e:\n",
    "            print(e)\n",
    "        else:\n",
    "            arr[pos] = make_features(*contents)\n",
    "            pos += 1\n",
    "        if pos == batch_size - 1:\n",
    "            pos = 0\n",
    "            yield arr, arr"
   ]
  },
  {
   "cell_type": "code",
   "execution_count": 9,
   "metadata": {
    "collapsed": false
   },
   "outputs": [],
   "source": [
    "from sklearn.model_selection import train_test_split\n",
    "files = list(glob.glob('/home/dante_gates/music_rec/*.wav'))\n",
    "train, test = train_test_split(files, test_size=0.3)"
   ]
  },
  {
   "cell_type": "code",
   "execution_count": 10,
   "metadata": {
    "collapsed": false
   },
   "outputs": [
    {
     "data": {
      "text/plain": [
       "(['/home/dante_gates/music_rec/21 Camar.wav',\n",
       "  '/home/dante_gates/music_rec/12 Good .wav',\n",
       "  '/home/dante_gates/music_rec/07 I Sta.wav',\n",
       "  '/home/dante_gates/music_rec/16 The G.wav',\n",
       "  '/home/dante_gates/music_rec/11 Are Y.wav',\n",
       "  '/home/dante_gates/music_rec/05 Ginge.wav',\n",
       "  '/home/dante_gates/music_rec/09 Whack.wav',\n",
       "  '/home/dante_gates/music_rec/06 My Ch.wav',\n",
       "  '/home/dante_gates/music_rec/08 Yello.wav',\n",
       "  '/home/dante_gates/music_rec/12 Why C.wav'],\n",
       " ['/home/dante_gates/music_rec/03 The R.wav',\n",
       "  '/home/dante_gates/music_rec/01 Intro.wav',\n",
       "  '/home/dante_gates/music_rec/04 Track.wav',\n",
       "  '/home/dante_gates/music_rec/11 Stuck.wav',\n",
       "  '/home/dante_gates/music_rec/13 Who W.wav',\n",
       "  '/home/dante_gates/music_rec/02 Sonne.wav',\n",
       "  '/home/dante_gates/music_rec/04 Right.wav',\n",
       "  '/home/dante_gates/music_rec/09 Freed.wav',\n",
       "  '/home/dante_gates/music_rec/03 Cross.wav',\n",
       "  '/home/dante_gates/music_rec/07 - Hop.wav'])"
      ]
     },
     "execution_count": 10,
     "metadata": {},
     "output_type": "execute_result"
    }
   ],
   "source": [
    "train[:10], test[:10]"
   ]
  },
  {
   "cell_type": "code",
   "execution_count": 11,
   "metadata": {
    "collapsed": false
   },
   "outputs": [
    {
     "name": "stderr",
     "output_type": "stream",
     "text": [
      "Using Theano backend.\n"
     ]
    }
   ],
   "source": [
    "from keras.layers import Dense, Input\n",
    "from keras.models import Model\n",
    "\n",
    "\n",
    "class AutoEncoder:\n",
    "    \"\"\"Autoencoder.\n",
    "\n",
    "    Wrapper around several `keras.models.Model`s exposing methods for\n",
    "    training an autoencoder and then encoding and decoding input vectors.\n",
    "    \"\"\"\n",
    "    def __init__(self, input_dim, latent_dim, intermediate_dims):\n",
    "        \"\"\"Initialize an ``AutoEncoder``.\n",
    "\n",
    "        Args:\n",
    "            input_dim (int): Dimension of the input.\n",
    "            latent_dim (int): Dimension of the \"latent representation\" or\n",
    "            intermediate_dims (list): List of `int`s representing the\n",
    "                dimmension of the hidden layers up to, but not including, the\n",
    "                latent layer. See the example below.\n",
    "\n",
    "        Example\n",
    "        -------\n",
    "        The instance\n",
    "\n",
    "        >>> autoencoder = AutoEncoder(784, 32, [256, 128])\n",
    "\n",
    "        will have the following architecture ::\n",
    "            \n",
    "            |--------- 784 ---------|       INPUT\n",
    "\n",
    "               |------ 256 ------|\n",
    "\n",
    "                  |--- 128 ---|\n",
    "\n",
    "                    |-  32 -|               CODE\n",
    "\n",
    "                  |--- 128 ---|\n",
    "\n",
    "               |------ 256 ------|\n",
    "\n",
    "            |--------- 784 ---------|       OUTPUT\n",
    "\n",
    "\n",
    "        Usage\n",
    "        -----\n",
    "        >>> autoencoder.fit(x_train, validation_data=x_test)\n",
    "        >>> encodings = autoencoder.encode(x_test)\n",
    "        >>> decodings = autoencoder.decode(encodings)\n",
    "        \"\"\"\n",
    "        self._encoder = self._decoder = self._model = None\n",
    "        self._init_encoders(input_dim, latent_dim, intermediate_dims)\n",
    "\n",
    "    def _init_encoders(self, input_dim, latent_dim, intermediate_dims):\n",
    "        \"\"\"Create ``self._model`` for training the autoencoder as well as\n",
    "        ``self._encoder`` and ``self._decoder`` for encoding/decoding\n",
    "        output/codes.\n",
    "        \"\"\"\n",
    "        input_ = Input(shape=(input_dim,))\n",
    "        prev_layer = input_\n",
    "        for dim in intermediate_dims:\n",
    "            encoding = Dense(dim, activation='relu')(prev_layer)\n",
    "            prev_layer = encoding\n",
    "        encoding = Dense(latent_dim, activation='relu')(prev_layer)\n",
    "\n",
    "        prev_layer = encoding\n",
    "        for dim in reversed(intermediate_dims):\n",
    "            decoding = Dense(dim, activation='relu')(prev_layer)\n",
    "            prev_layer = decoding\n",
    "        decoding = Dense(input_dim, activation='sigmoid')(prev_layer)\n",
    "\n",
    "        # create model used to train autoencoder, ``AutoEncoder.fit()``\n",
    "        self._model = Model(input_, decoding)\n",
    "        # create model for encoding images, ``AutoEncoder.encode()``\n",
    "        self._encoder = Model(input_, encoding)\n",
    "        # create model for decoding images, ``AutoEncoder.decode()``        \n",
    "        self._decoder = self._make_decoder(latent_dim, intermediate_dims, self._model)\n",
    "        self._model.compile(optimizer='adadelta', loss='binary_crossentropy')\n",
    "\n",
    "    @staticmethod\n",
    "    def _make_decoder(latent_dim, intermediate_dims, model):\n",
    "        decoding_layers = model.layers[-1 * len(intermediate_dims) -1:]\n",
    "        latent = Input(shape=(latent_dim,))\n",
    "        prev_layer = latent\n",
    "        for layer in decoding_layers:\n",
    "            decoding = layer(prev_layer)\n",
    "            prev_layer = decoding\n",
    "        return Model(latent, prev_layer)\n",
    "\n",
    "    def fit(self, input_data, *args, validation_data=None, **kwargs):\n",
    "        validation_data = (validation_data, validation_data)\n",
    "        self._model.fit(input_data, input_data,\n",
    "            validation_data=validation_data, *args, **kwargs)\n",
    "\n",
    "    def encode(self, x):\n",
    "        return self._encoder.predict(x)\n",
    "\n",
    "    def decode(self, x):\n",
    "        return self._decoder.predict(x)\n"
   ]
  },
  {
   "cell_type": "code",
   "execution_count": 33,
   "metadata": {
    "collapsed": false,
    "scrolled": true
   },
   "outputs": [
    {
     "name": "stdout",
     "output_type": "stream",
     "text": [
      "Epoch 1/1\n",
      "/home/dante_gates/music_rec/21 Camar.wav does not have a sample rate of 44100\n",
      "/home/dante_gates/music_rec/09 Love .wav does not have a sample rate of 44100\n",
      " 1/30 [>.............................] - ETA: 662s - loss: -610304704.0000/home/dante_gates/music_rec/12 Ms. P.wav does not have a sample rate of 44100\n",
      "/home/dante_gates/music_rec/02 Vcr.wav does not have a sample rate of 44100\n",
      " 2/30 [=>............................] - ETA: 625s - loss: -3119611488.0000/home/dante_gates/music_rec/09 Shimm.wav does not have a sample rate of 44100\n",
      " 3/30 [==>...........................] - ETA: 614s - loss: -4206163349.3333/home/dante_gates/music_rec/07 Shelt.wav does not have a sample rate of 44100\n",
      " 4/30 [===>..........................] - ETA: 597s - loss: -6423087152.0000/home/dante_gates/music_rec/09 I'm S.wav does not have a sample rate of 44100\n",
      " 5/30 [====>.........................] - ETA: 575s - loss: -8632033728.0000/home/dante_gates/music_rec/06 No Ti.wav does not have a sample rate of 44100\n",
      "/home/dante_gates/music_rec/03 How Y.wav does not have a sample rate of 44100\n",
      "44100 (421632, 2)\n",
      "/home/dante_gates/music_rec/17 Track.wav is less than 30s\n",
      " 6/30 [=====>........................] - ETA: 569s - loss: -11452446752.0000/home/dante_gates/music_rec/03 Jumpe.wav does not have a sample rate of 44100\n",
      "/home/dante_gates/music_rec/04 Weird.wav does not have a sample rate of 44100\n",
      " 7/30 [======>.......................] - ETA: 542s - loss: -11652760018.2857/home/dante_gates/music_rec/09 Infin.wav does not have a sample rate of 44100\n",
      "/home/dante_gates/music_rec/08 Cause.wav does not have a sample rate of 44100\n",
      " 8/30 [=======>......................] - ETA: 520s - loss: -11733483032.0000/home/dante_gates/music_rec/02 Po Bl.wav does not have a sample rate of 44100\n",
      "/home/dante_gates/music_rec/02 Oh! N.wav does not have a sample rate of 44100\n",
      "/home/dante_gates/music_rec/I don't .wav does not have a sample rate of 44100\n",
      " 9/30 [========>.....................] - ETA: 497s - loss: -10975054471.1111/home/dante_gates/music_rec/05 The M.wav does not have a sample rate of 44100\n",
      "/home/dante_gates/music_rec/04 Sixte.wav does not have a sample rate of 44100\n",
      "10/30 [=========>....................] - ETA: 474s - loss: -13195911136.0000/home/dante_gates/music_rec/15 Make .wav does not have a sample rate of 44100\n",
      "/home/dante_gates/music_rec/New Song.wav does not have a sample rate of 44100\n",
      "/home/dante_gates/music_rec/13 Goin'.wav does not have a sample rate of 44100\n",
      "/home/dante_gates/music_rec/05 Heart.wav does not have a sample rate of 44100\n",
      "/home/dante_gates/music_rec/Fiddles .wav does not have a sample rate of 44100\n",
      "11/30 [==========>...................] - ETA: 448s - loss: -15455551458.9091/home/dante_gates/music_rec/08 Is Th.wav does not have a sample rate of 44100\n",
      "/home/dante_gates/music_rec/02 The P.wav does not have a sample rate of 44100\n",
      "/home/dante_gates/music_rec/Intro Tr.wav does not have a sample rate of 44100\n",
      "/home/dante_gates/music_rec/20 Stay .wav does not have a sample rate of 44100\n",
      "13/30 [============>.................] - ETA: 405s - loss: -16991018825.8462/home/dante_gates/music_rec/07 Long .wav does not have a sample rate of 44100\n",
      "/home/dante_gates/music_rec/06 Honey.wav does not have a sample rate of 44100\n",
      "/home/dante_gates/music_rec/11 Stars.wav does not have a sample rate of 44100\n",
      "14/30 [=============>................] - ETA: 401s - loss: -17149445682.2857/home/dante_gates/music_rec/01 Shake.wav does not have a sample rate of 44100\n",
      "/home/dante_gates/music_rec/14 Going.wav does not have a sample rate of 44100\n",
      "/home/dante_gates/music_rec/05 Short.wav does not have a sample rate of 44100\n",
      "15/30 [==============>...............] - ETA: 372s - loss: -18393929706.6667/home/dante_gates/music_rec/13 Shove.wav does not have a sample rate of 44100\n",
      "16/30 [===============>..............] - ETA: 345s - loss: -17989619756.0000/home/dante_gates/music_rec/22 Muffi.wav does not have a sample rate of 44100\n",
      "/home/dante_gates/music_rec/07 Fathe.wav does not have a sample rate of 44100\n",
      "/home/dante_gates/music_rec/11 Be So.wav does not have a sample rate of 44100\n",
      "17/30 [================>.............] - ETA: 322s - loss: -17686660257.8824/home/dante_gates/music_rec/06 Fanta.wav does not have a sample rate of 44100\n",
      "/home/dante_gates/music_rec/19 Dinah.wav does not have a sample rate of 44100\n",
      "/home/dante_gates/music_rec/03 Cryst.wav does not have a sample rate of 44100\n",
      "/home/dante_gates/music_rec/04 Magic.wav does not have a sample rate of 44100\n",
      "/home/dante_gates/music_rec/06 Never.wav does not have a sample rate of 44100\n",
      "18/30 [=================>............] - ETA: 296s - loss: -19084619530.6667/home/dante_gates/music_rec/03 Dirty.wav does not have a sample rate of 44100\n"
     ]
    },
    {
     "name": "stderr",
     "output_type": "stream",
     "text": [
      "Exception in thread Thread-10:\n",
      "Traceback (most recent call last):\n",
      "  File \"/home/dante_gates/anaconda3/lib/python3.5/threading.py\", line 914, in _bootstrap_inner\n",
      "    self.run()\n",
      "  File \"/home/dante_gates/anaconda3/lib/python3.5/threading.py\", line 862, in run\n",
      "    self._target(*self._args, **self._kwargs)\n",
      "  File \"/home/dante_gates/anaconda3/lib/python3.5/site-packages/keras/utils/data_utils.py\", line 568, in data_generator_task\n",
      "    generator_output = next(self._generator)\n",
      "StopIteration\n",
      "\n"
     ]
    },
    {
     "ename": "StopIteration",
     "evalue": "",
     "output_type": "error",
     "traceback": [
      "\u001b[0;31m---------------------------------------------------------------------------\u001b[0m",
      "\u001b[0;31mStopIteration\u001b[0m                             Traceback (most recent call last)",
      "\u001b[0;32m<ipython-input-33-a0f9daa7d668>\u001b[0m in \u001b[0;36m<module>\u001b[0;34m()\u001b[0m\n\u001b[1;32m      1\u001b[0m \u001b[0mae\u001b[0m \u001b[0;34m=\u001b[0m \u001b[0mAutoEncoder\u001b[0m\u001b[0;34m(\u001b[0m\u001b[0;36m128\u001b[0m \u001b[0;34m*\u001b[0m \u001b[0;36m259\u001b[0m\u001b[0;34m,\u001b[0m \u001b[0;36m32\u001b[0m\u001b[0;34m,\u001b[0m \u001b[0;34m[\u001b[0m\u001b[0;36m1024\u001b[0m\u001b[0;34m,\u001b[0m \u001b[0;36m256\u001b[0m\u001b[0;34m,\u001b[0m \u001b[0;36m128\u001b[0m\u001b[0;34m,\u001b[0m \u001b[0;36m64\u001b[0m\u001b[0;34m]\u001b[0m\u001b[0;34m)\u001b[0m\u001b[0;34m\u001b[0m\u001b[0m\n\u001b[0;32m----> 2\u001b[0;31m \u001b[0mae\u001b[0m\u001b[0;34m.\u001b[0m\u001b[0m_model\u001b[0m\u001b[0;34m.\u001b[0m\u001b[0mfit_generator\u001b[0m\u001b[0;34m(\u001b[0m\u001b[0mgen\u001b[0m\u001b[0;34m(\u001b[0m\u001b[0mtrain\u001b[0m\u001b[0;34m,\u001b[0m \u001b[0;36m128\u001b[0m\u001b[0;34m*\u001b[0m\u001b[0;36m259\u001b[0m\u001b[0;34m)\u001b[0m\u001b[0;34m,\u001b[0m \u001b[0;36m30\u001b[0m\u001b[0;34m,\u001b[0m \u001b[0mvalidation_data\u001b[0m\u001b[0;34m=\u001b[0m\u001b[0mgen\u001b[0m\u001b[0;34m(\u001b[0m\u001b[0mtest\u001b[0m\u001b[0;34m,\u001b[0m \u001b[0;36m128\u001b[0m\u001b[0;34m*\u001b[0m\u001b[0;36m259\u001b[0m\u001b[0;34m)\u001b[0m\u001b[0;34m,\u001b[0m \u001b[0mvalidation_steps\u001b[0m\u001b[0;34m=\u001b[0m\u001b[0;36m30\u001b[0m\u001b[0;34m)\u001b[0m\u001b[0;34m\u001b[0m\u001b[0m\n\u001b[0m",
      "\u001b[0;32m/home/dante_gates/anaconda3/lib/python3.5/site-packages/keras/legacy/interfaces.py\u001b[0m in \u001b[0;36mwrapper\u001b[0;34m(*args, **kwargs)\u001b[0m\n\u001b[1;32m     85\u001b[0m                 warnings.warn('Update your `' + object_name +\n\u001b[1;32m     86\u001b[0m                               '` call to the Keras 2 API: ' + signature, stacklevel=2)\n\u001b[0;32m---> 87\u001b[0;31m             \u001b[0;32mreturn\u001b[0m \u001b[0mfunc\u001b[0m\u001b[0;34m(\u001b[0m\u001b[0;34m*\u001b[0m\u001b[0margs\u001b[0m\u001b[0;34m,\u001b[0m \u001b[0;34m**\u001b[0m\u001b[0mkwargs\u001b[0m\u001b[0;34m)\u001b[0m\u001b[0;34m\u001b[0m\u001b[0m\n\u001b[0m\u001b[1;32m     88\u001b[0m         \u001b[0mwrapper\u001b[0m\u001b[0;34m.\u001b[0m\u001b[0m_original_function\u001b[0m \u001b[0;34m=\u001b[0m \u001b[0mfunc\u001b[0m\u001b[0;34m\u001b[0m\u001b[0m\n\u001b[1;32m     89\u001b[0m         \u001b[0;32mreturn\u001b[0m \u001b[0mwrapper\u001b[0m\u001b[0;34m\u001b[0m\u001b[0m\n",
      "\u001b[0;32m/home/dante_gates/anaconda3/lib/python3.5/site-packages/keras/engine/training.py\u001b[0m in \u001b[0;36mfit_generator\u001b[0;34m(self, generator, steps_per_epoch, epochs, verbose, callbacks, validation_data, validation_steps, class_weight, max_queue_size, workers, use_multiprocessing, shuffle, initial_epoch)\u001b[0m\n\u001b[1;32m   2009\u001b[0m                 \u001b[0mbatch_index\u001b[0m \u001b[0;34m=\u001b[0m \u001b[0;36m0\u001b[0m\u001b[0;34m\u001b[0m\u001b[0m\n\u001b[1;32m   2010\u001b[0m                 \u001b[0;32mwhile\u001b[0m \u001b[0msteps_done\u001b[0m \u001b[0;34m<\u001b[0m \u001b[0msteps_per_epoch\u001b[0m\u001b[0;34m:\u001b[0m\u001b[0;34m\u001b[0m\u001b[0m\n\u001b[0;32m-> 2011\u001b[0;31m                     \u001b[0mgenerator_output\u001b[0m \u001b[0;34m=\u001b[0m \u001b[0mnext\u001b[0m\u001b[0;34m(\u001b[0m\u001b[0moutput_generator\u001b[0m\u001b[0;34m)\u001b[0m\u001b[0;34m\u001b[0m\u001b[0m\n\u001b[0m\u001b[1;32m   2012\u001b[0m \u001b[0;34m\u001b[0m\u001b[0m\n\u001b[1;32m   2013\u001b[0m                     \u001b[0;32mif\u001b[0m \u001b[0;32mnot\u001b[0m \u001b[0mhasattr\u001b[0m\u001b[0;34m(\u001b[0m\u001b[0mgenerator_output\u001b[0m\u001b[0;34m,\u001b[0m \u001b[0;34m'__len__'\u001b[0m\u001b[0;34m)\u001b[0m\u001b[0;34m:\u001b[0m\u001b[0;34m\u001b[0m\u001b[0m\n",
      "\u001b[0;31mStopIteration\u001b[0m: "
     ]
    }
   ],
   "source": [
    "ae = AutoEncoder(128 * 259, 32, [1024, 256, 128, 64])\n",
    "ae._model.fit_generator(gen(train, 128*259), 30, validation_data=gen(test, 128*259), validation_steps=30)"
   ]
  }
 ],
 "metadata": {
  "anaconda-cloud": {},
  "kernelspec": {
   "display_name": "Python [conda root]",
   "language": "python",
   "name": "conda-root-py"
  },
  "language_info": {
   "codemirror_mode": {
    "name": "ipython",
    "version": 3
   },
   "file_extension": ".py",
   "mimetype": "text/x-python",
   "name": "python",
   "nbconvert_exporter": "python",
   "pygments_lexer": "ipython3",
   "version": "3.5.2"
  }
 },
 "nbformat": 4,
 "nbformat_minor": 1
}
